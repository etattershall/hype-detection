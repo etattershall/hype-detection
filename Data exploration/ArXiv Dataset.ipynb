{
 "cells": [
  {
   "cell_type": "markdown",
   "metadata": {},
   "source": [
    "# Analysis of the ArXiv data structure and dataset characteristics"
   ]
  },
  {
   "cell_type": "code",
   "execution_count": 22,
   "metadata": {},
   "outputs": [],
   "source": [
    "%matplotlib inline\n",
    "\n",
    "import os\n",
    "import pickle\n",
    "import matplotlib.pyplot as plt\n",
    "\n",
    "# Path to arxiv data\n",
    "filepath = \"../Data/arxiv_sorted/\""
   ]
  },
  {
   "cell_type": "code",
   "execution_count": 9,
   "metadata": {},
   "outputs": [],
   "source": [
    "data = {}\n",
    "for file in os.listdir(filepath):\n",
    "    data[file.split('.')[0]] = pickle.load(open(filepath+file, \"rb\"))"
   ]
  },
  {
   "cell_type": "markdown",
   "metadata": {},
   "source": [
    "The data is now in a dictionary of years. Each year contains a list of entries."
   ]
  },
  {
   "cell_type": "code",
   "execution_count": 12,
   "metadata": {},
   "outputs": [
    {
     "name": "stdout",
     "output_type": "stream",
     "text": [
      "['1989', '1990', '1991', '1992', '1993', '1994', '1995', '1996', '1997', '1998', '1999', '2000', '2001', '2002', '2003', '2004', '2005', '2006', '2007', '2008', '2009', '2010', '2011', '2012', '2013', '2014', '2015', '2016', '2017', '2018']\n"
     ]
    }
   ],
   "source": [
    "print(list(data.keys()))"
   ]
  },
  {
   "cell_type": "code",
   "execution_count": 13,
   "metadata": {},
   "outputs": [
    {
     "data": {
      "text/plain": [
       "{'abstract': 'a special case of the satisfiability problem, in which the clauses have a hierarchical structure, is shown to be solvable in linear time, assuming that the clauses have been represented in a convenient way.',\n",
       " 'authors': ['knuth'],\n",
       " 'categories': 'cs.cc',\n",
       " 'created': '1989-12-31',\n",
       " 'doi': '',\n",
       " 'id': 'cs/9301111',\n",
       " 'title': 'nested satisfiability',\n",
       " 'updated': '',\n",
       " 'url': 'https://arxiv.org/abs/cs/9301111'}"
      ]
     },
     "execution_count": 13,
     "metadata": {},
     "output_type": "execute_result"
    }
   ],
   "source": [
    "data['1989'][0]"
   ]
  },
  {
   "cell_type": "code",
   "execution_count": 20,
   "metadata": {},
   "outputs": [
    {
     "data": {
      "text/plain": [
       "{'abstract': 'we propose a scalable divergence estimation method based on hashing. consider two continuous random variables $x$ and $y$ whose densities have bounded support. we consider a particular locality sensitive random hashing, and consider the ratio of samples in each hash bin having non-zero numbers of y samples. we prove that the weighted average of these ratios over all of the hash bins converges to f-divergences between the two samples sets. we show that the proposed estimator is optimal in terms of both mse rate and computational complexity. we derive the mse rates for two families of smooth functions; the h\\\\\"{o}lder smoothness class and differentiable functions. in particular, it is proved that if the density functions have bounded derivatives up to the order $d/2$, where $d$ is the dimension of samples, the optimal parametric mse rate of $o(1/n)$ can be achieved. the computational complexity is shown to be $o(n)$, which is optimal. to the best of our knowledge, this is the first empirical divergence estimator that has optimal computational complexity and achieves the optimal parametric mse estimation rate.',\n",
       " 'authors': ['noshad', 'hero'],\n",
       " 'categories': 'cs.it math.it',\n",
       " 'created': '2018-01-01',\n",
       " 'doi': '',\n",
       " 'id': '1801.00398',\n",
       " 'title': 'scalable hash-based estimation of divergence measures',\n",
       " 'updated': '',\n",
       " 'url': 'https://arxiv.org/abs/1801.00398'}"
      ]
     },
     "execution_count": 20,
     "metadata": {},
     "output_type": "execute_result"
    }
   ],
   "source": [
    "data['2018'][0]"
   ]
  },
  {
   "cell_type": "markdown",
   "metadata": {},
   "source": [
    "### Data structure\n",
    "\n",
    "We observe a set of dictionary keys:\n",
    "\n",
    "- abstract (string, not cleaned)\n",
    "- authors (list of strings. last names only.)\n",
    "- categories (string of arxiv categories delimited by spaces. all entries have at least one cs category)\n",
    "- created (string date in forma YYYY-MM-DD)\n",
    "- doi (string, for instance: '10.1007/978-3-319-42108-7_31')\n",
    "- id (string, for instance: '1801.00398')\n",
    "- title (string, not cleaned)\n",
    "- url (string, for instance: 'https://arxiv.org/abs/1801.00398')"
   ]
  },
  {
   "cell_type": "markdown",
   "metadata": {},
   "source": [
    "### What's not included\n",
    "\n",
    "There is no information about citations contained here, or author's institutions. This limits the usefulness of the data."
   ]
  },
  {
   "cell_type": "code",
   "execution_count": 28,
   "metadata": {},
   "outputs": [
    {
     "data": {
      "text/plain": [
       "[<matplotlib.lines.Line2D at 0x1f4684a8>]"
      ]
     },
     "execution_count": 28,
     "metadata": {},
     "output_type": "execute_result"
    },
    {
     "data": {
      "image/png": "[encoded data removed]",
      "text/plain": [
       "<matplotlib.figure.Figure at 0x1f425c18>"
      ]
     },
     "metadata": {},
     "output_type": "display_data"
    }
   ],
   "source": [
    "x = []\n",
    "y = []\n",
    "for key in data.keys():\n",
    "    x.append(int(key))\n",
    "    y.append(len(data[key]))\n",
    "    \n",
    "    \n",
    "plt.figure(figsize=(12,5))\n",
    "plt.title(\"Number of arXiv cs articles by year\")\n",
    "plt.xlabel('Publication year', fontsize=12)\n",
    "plt.ylabel('Number of articles', fontsize=12)\n",
    "plt.grid()\n",
    "plt.xlim([1989, 2018])\n",
    "plt.ylim([0, max(y)])\n",
    "plt.plot(x, y, linewidth=2)\n"
   ]
  },
  {
   "cell_type": "markdown",
   "metadata": {},
   "source": [
    "### A note on the range of the data\n",
    "\n",
    "Looking at the graph above, the vast bulk of the data is in the more recent years. It is hard to pick an appropriate cut-off, so perhaps an arbitrary one will have to do intead. In the bulk of the analyses, we use 2008-2018"
   ]
  },
  {
   "cell_type": "code",
   "execution_count": null,
   "metadata": {},
   "outputs": [],
   "source": []
  },
  {
   "cell_type": "code",
   "execution_count": null,
   "metadata": {},
   "outputs": [],
   "source": []
  }
 ],
 "metadata": {
  "kernelspec": {
   "display_name": "Python 3",
   "language": "python",
   "name": "python3"
  },
  "language_info": {
   "codemirror_mode": {
    "name": "ipython",
    "version": 3
   },
   "file_extension": ".py",
   "mimetype": "text/x-python",
   "name": "python",
   "nbconvert_exporter": "python",
   "pygments_lexer": "ipython3",
   "version": "3.6.4"
  }
 },
 "nbformat": 4,
 "nbformat_minor": 2
}
