{
 "cells": [
  {
   "cell_type": "code",
   "execution_count": null,
   "metadata": {},
   "outputs": [],
   "source": []
  },
  {
   "cell_type": "code",
   "execution_count": 53,
   "metadata": {},
   "outputs": [],
   "source": [
    "%matplotlib inline\n",
    "\n",
    "# used throughout\n",
    "import time\n",
    "import numpy as np\n",
    "\n",
    "# data ingress from file\n",
    "import os\n",
    "import pickle\n",
    "\n",
    "# lemmatisation\n",
    "from collections import defaultdict\n",
    "from nltk.stem import WordNetLemmatizer\n",
    "from sklearn.feature_extraction.text import CountVectorizer\n",
    "\n",
    "# Graphing step\n",
    "import matplotlib.pyplot as plt\n",
    "\n",
    "# Path to arxiv data\n",
    "filepath = \"../Data/arxiv_sorted/\""
   ]
  },
  {
   "cell_type": "markdown",
   "metadata": {},
   "source": [
    "## Tools"
   ]
  },
  {
   "cell_type": "code",
   "execution_count": 149,
   "metadata": {},
   "outputs": [],
   "source": [
    "def quarter(created):\n",
    "    '''\n",
    "    Takes a string in the format YYYY-MM-DD and returns a year quarter where the quarter is a number from 0 to 3\n",
    "    \n",
    "    For instance, >>>quarter(2010-03-11) returns 2010-0\n",
    "    '''\n",
    "    return str(created[0:4]) + '-' + str(int(np.floor((int(created[5:7])-1)/3)))\n",
    "\n",
    "\n",
    "def graph():\n",
    "    '''\n",
    "    Standard graph formatting used in the rest of this notebook\n",
    "    '''\n",
    "    fig = plt.figure(figsize=(12,6)) \n",
    "    ax = fig.subplots(1,1)\n",
    "    ax.set_xlabel('Publication quarter', fontsize=12)\n",
    "    ax.set_ylabel('Term popularity (%)', fontsize=12)\n",
    "    ax.set_xlim([0,40])\n",
    "    ax.grid()\n",
    "    plt.xticks(np.arange(0,42,4), ['2008', '2009', '2010', '2011', '2012', '2013', '2014', '2015', '2016', '2017', '2018'])\n",
    "    return ax\n",
    "    \n",
    "def moving_average(data_series, ma_length):\n",
    "    original_x = np.arange(0,len(data_series))\n",
    "    new_x = original_x[ma_length-1:]\n",
    "    y = np.convolve(data_series, np.ones((ma_length,))/ma_length, mode='valid')\n",
    "    return new_x, y\n",
    "                    "
   ]
  },
  {
   "cell_type": "code",
   "execution_count": 133,
   "metadata": {},
   "outputs": [],
   "source": []
  },
  {
   "cell_type": "code",
   "execution_count": null,
   "metadata": {},
   "outputs": [],
   "source": []
  },
  {
   "cell_type": "markdown",
   "metadata": {},
   "source": [
    "## Import data"
   ]
  },
  {
   "cell_type": "code",
   "execution_count": 55,
   "metadata": {},
   "outputs": [],
   "source": [
    "data = {}\n",
    "for file in os.listdir(filepath):\n",
    "    data[int(file.split('.')[0])] = pickle.load(open(filepath+file, \"rb\"))"
   ]
  },
  {
   "cell_type": "markdown",
   "metadata": {},
   "source": [
    "## Stopwords\n",
    "\n",
    "We use a fairly comprehensive list of stopwords"
   ]
  },
  {
   "cell_type": "code",
   "execution_count": 56,
   "metadata": {},
   "outputs": [],
   "source": [
    "with open('../Resources/stopwords.txt', 'r') as f:\n",
    "    stop = set(f.read().splitlines())\n",
    "    \n",
    "for year in range(1950, 2020):\n",
    "    stop.add(str(year))\n",
    "    "
   ]
  },
  {
   "cell_type": "markdown",
   "metadata": {},
   "source": [
    "## Apply a lemmatisation step\n",
    "\n",
    "Initial experiments seemed to imply that stemming is too harsh a choice here. However, to avoid repeated words popping up, we do apply a lemmatisation step (stripping trailing 's's off words, for example."
   ]
  },
  {
   "cell_type": "code",
   "execution_count": 88,
   "metadata": {},
   "outputs": [
    {
     "name": "stdout",
     "output_type": "stream",
     "text": [
      "92.28322720527649\n"
     ]
    }
   ],
   "source": [
    "t0 = time.time()\n",
    "\n",
    "# Download the lemmatisesr\n",
    "wnl = WordNetLemmatizer()\n",
    "\n",
    "\n",
    "count = CountVectorizer(strip_accents='ascii',  \n",
    "                        stop_words=stop, \n",
    "                        min_df=1)\n",
    "\n",
    "# Create a tokeniser. This will split text into tokens based on punctuation\n",
    "tokeniser = count.build_analyzer()\n",
    "    \n",
    "lemmatised_data = []\n",
    "for year in range(2008,2019):\n",
    "    for doc in data[year]:\n",
    "        \n",
    "        # Grab out the text. \n",
    "        text = doc['title'] + ' . ' + doc['abstract']\n",
    "        \n",
    "        lemmas = []\n",
    "        for word in tokeniser(text):\n",
    "            lemmas.append(wnl.lemmatize(word))\n",
    "        \n",
    "        lemmatised_data.append({'year_quarter': quarter(doc['created']), 'text': ' '.join(lemmas)})\n",
    "\n",
    "print(time.time()-t0)"
   ]
  },
  {
   "cell_type": "markdown",
   "metadata": {},
   "source": [
    "### Number of articles that we have kept?"
   ]
  },
  {
   "cell_type": "code",
   "execution_count": 89,
   "metadata": {},
   "outputs": [
    {
     "name": "stdout",
     "output_type": "stream",
     "text": [
      "156174\n"
     ]
    }
   ],
   "source": [
    "print(len(lemmatised_data))"
   ]
  },
  {
   "cell_type": "markdown",
   "metadata": {},
   "source": [
    "### What do the articles look like after they have been lemmatised?"
   ]
  },
  {
   "cell_type": "code",
   "execution_count": 59,
   "metadata": {},
   "outputs": [
    {
     "name": "stdout",
     "output_type": "stream",
     "text": [
      "Before:\n",
      "is randomness \"native\" to computer science?\n",
      "we survey the kolmogorov's approach to the notion of randomness through the kolmogorov complexity theory. the original motivation of kolmogorov was to give up a quantitative definition of information. in this theory, an object is randomness in the sense that it has a large information content. afterwards, we present parts of the work of martin-lof, schnorr, chaitin and levin which supply a mathematical notion of randomness throughout diverse theories from the the 60' up to recently.\n",
      "\n",
      "After\n",
      "randomness native computer science survey kolmogorov approach notion randomness kolmogorov complexity theory original motivation kolmogorov quantitative definition theory object randomness sense large content part work martin lof schnorr chaitin levin supply mathematical notion randomness diverse theory 60\n"
     ]
    }
   ],
   "source": [
    "print('Before:')\n",
    "print(data[2008][0]['title'])\n",
    "print(data[2008][0]['abstract'])\n",
    "print()\n",
    "print('After')\n",
    "print(lemmatised_data[0]['text'])"
   ]
  },
  {
   "cell_type": "markdown",
   "metadata": {},
   "source": [
    "## Get the vocabulary of the whole dataset\n",
    "\n",
    "Before vectorising, we gather together a vocabulary based on the entire dataset\n",
    "\n",
    "We choose\n",
    "- ngram range = 1 to 3\n",
    "- a minimum document frequency of 5 throughout the entire dataset\n",
    "\n",
    "Questions:\n",
    "- should we be doing this year to year? does the aggregated minimum document frequncy bias the data towards later years where there were more documents?\n",
    "\n",
    "Issues:\n",
    "- The dating information is separated here. This makes the method more prone to errors since it needs to be rematched based on index later"
   ]
  },
  {
   "cell_type": "code",
   "execution_count": 60,
   "metadata": {},
   "outputs": [
    {
     "name": "stdout",
     "output_type": "stream",
     "text": [
      "166.20961928367615\n"
     ]
    }
   ],
   "source": [
    "t0 = time.time()\n",
    "\n",
    "vectorizer = CountVectorizer(strip_accents='ascii', \n",
    "                             ngram_range=(1,3), \n",
    "                             min_df=5)\n",
    "\n",
    "vector = vectorizer.fit_transform([d['text'] for d in lemmatised_data])\n",
    "vocabulary = vectorizer.vocabulary_\n",
    "print(time.time()-t0)"
   ]
  },
  {
   "cell_type": "markdown",
   "metadata": {},
   "source": [
    "### Number of items in the vocabulary?"
   ]
  },
  {
   "cell_type": "code",
   "execution_count": 61,
   "metadata": {},
   "outputs": [
    {
     "data": {
      "text/plain": [
       "539124"
      ]
     },
     "execution_count": 61,
     "metadata": {},
     "output_type": "execute_result"
    }
   ],
   "source": [
    "len(vocabulary)"
   ]
  },
  {
   "cell_type": "markdown",
   "metadata": {},
   "source": [
    "## Go year by year and vectorise"
   ]
  },
  {
   "cell_type": "code",
   "execution_count": 94,
   "metadata": {},
   "outputs": [
    {
     "name": "stdout",
     "output_type": "stream",
     "text": [
      "69.3020691871643\n"
     ]
    }
   ],
   "source": [
    "# Store the vectors in a list ordered by year\n",
    "year_quarters = []\n",
    "vectors = []\n",
    "\n",
    "t0 = time.time()\n",
    "for year in range(2008, 2019):\n",
    "    for quarter in range(4):\n",
    "        year_quarter = str(year) + '-' + str(quarter)\n",
    "        \n",
    "        # Set up a new vectoriser. We can forgo the stopwords step, since they were all elimimated earlier in the process\n",
    "        vectorizer = CountVectorizer(strip_accents='ascii', \n",
    "                                 ngram_range=(1,3), \n",
    "                                 vocabulary=vocabulary)     \n",
    "        \n",
    "        # Apply the vectoriser to the data for that year\n",
    "        year_quarter_data = [d['text'] for d in lemmatised_data if d['year_quarter'] == year_quarter]\n",
    "        if len(year_quarter_data) > 10:\n",
    "            year_quarters.append(year_quarter)\n",
    "            \n",
    "            # vectorise\n",
    "            vector = vectorizer.fit_transform(year_quarter_data)\n",
    "            \n",
    "            # We are only interested in document frequency of words. It does not matter if one\n",
    "            # word appears multiple times in a document; it should be treated as one occurence\n",
    "            # Therefore, we threshold the vector so that each cell is 0 (word did not appear)\n",
    "            # or 1 (word did appear)\n",
    "            vector[vector>1] = 1\n",
    "            \n",
    "            # We save document frequency/number of documents\n",
    "            # this is an improvement to an erronous earlier version which took term frequency/number of words in all documents\n",
    "            summed = np.sum(vector, axis=0)/vector.shape[0]\n",
    "            \n",
    "            # We save a squeezed np array version of this (original is a Matrix)\n",
    "            vectors.append(np.squeeze(np.asarray(summed)))\n",
    "            \n",
    "\n",
    "# Stack vectors vertically, so that we have the full history of popularity/time for each term\n",
    "stacked_vectors = np.stack(vectors, axis=1)\n",
    "\n",
    "print(time.time()-t0)"
   ]
  },
  {
   "cell_type": "markdown",
   "metadata": {},
   "source": [
    "## Detect keywords using MACD\n",
    "\n",
    "We use a modified version of the Moving-Average-Convergence-Divergence method to detect interesting keywords. Since we are looking at historical rather than current data, we judge that the term is interesting if the difference between the long and short averages is greater than some threshold, normalised by the all-time maximum of the long moving average.\n",
    "\n",
    "Some parts of this methodology are shaky, particularly the normalisation step. We also threshold out terms that never rise above a given level of popularity."
   ]
  },
  {
   "cell_type": "markdown",
   "metadata": {},
   "source": [
    "### Quick example\n",
    "\n",
    "Pretty graphs of moving averages for a particular word"
   ]
  },
  {
   "cell_type": "code",
   "execution_count": 151,
   "metadata": {},
   "outputs": [],
   "source": [
    "term = 'big data'\n",
    "long_ma_length = 20\n",
    "short_ma_length = 10\n",
    "\n",
    "# Get the term popularity over time\n",
    "index = vocabulary['big data']\n",
    "prevalence = stacked_vectors[index,:]\n",
    "x = np.arange(0,42)\n",
    "\n",
    "# Get the moving averages\n",
    "long_x, long_y = moving_average(prevalence, long_ma_length)\n",
    "short_x, short_y = moving_average(prevalence, short_ma_length)\n"
   ]
  },
  {
   "cell_type": "code",
   "execution_count": 156,
   "metadata": {},
   "outputs": [
    {
     "data": {
      "text/plain": [
       "<matplotlib.legend.Legend at 0x3d561208>"
      ]
     },
     "execution_count": 156,
     "metadata": {},
     "output_type": "execute_result"
    },
    {
     "data": {
      "image/png": "[encoded data removed]",
      "text/plain": [
       "<matplotlib.figure.Figure at 0x49b98940>"
      ]
     },
     "metadata": {},
     "output_type": "display_data"
    }
   ],
   "source": [
    "ax = graph()\n",
    "ax.plot(x, prevalence, label='Raw term prevalence')\n",
    "ax.plot(short_x, short_y, color='grey', label='Short moving average')\n",
    "ax.plot(long_x, long_y, color='black', label='Long moving average')\n",
    "ax.set_title('Prevalence of term \"' + term + '\" over time', fontsize=16)\n",
    "ax.legend()"
   ]
  },
  {
   "cell_type": "code",
   "execution_count": 78,
   "metadata": {},
   "outputs": [
    {
     "data": {
      "text/plain": [
       "matrix([[  60, 1107,   40, ...,    6,   26,   11]], dtype=int64)"
      ]
     },
     "execution_count": 78,
     "metadata": {},
     "output_type": "execute_result"
    }
   ],
   "source": [
    "significance_thresholds = []\n"
   ]
  },
  {
   "cell_type": "code",
   "execution_count": 74,
   "metadata": {},
   "outputs": [
    {
     "data": {
      "text/plain": [
       "23377724"
      ]
     },
     "execution_count": 74,
     "metadata": {},
     "output_type": "execute_result"
    }
   ],
   "source": [
    "uni_significance_thresh = 0.0001\n",
    "bi_significance_thresh = 0.00005\n",
    "#tri_significance_thresh = 0.000001\n",
    "\n",
    "ma1 = 21\n",
    "ma2 = 10\n",
    "\n",
    "bursts = []\n",
    "for keyword in vocabulary.keys():\n",
    "    time_series = vectors_tf[vocabulary[keyword]]\n",
    "\n",
    "    long_average = np.convolve(time_series, np.ones((ma1,))/ma1, mode='valid')\n",
    "\n",
    "    #trimmed, to be the same length as the long average\n",
    "    short_average = np.convolve(time_series, np.ones((ma2,))/ma2, mode='valid')[int(ma1-ma2):]\n",
    "\n",
    "    # threshold out insignificant words\n",
    "    if ' ' in keyword:\n",
    "        if np.max(long_average) < bi_significance_thresh:\n",
    "            continue\n",
    "    else:\n",
    "        if np.max(long_average) < uni_significance_thresh:\n",
    "            continue\n",
    "    \n",
    "    # Calculate the score... oh wait. mmm.... should it be as a proportion\n",
    "    diff = np.abs(long_average-short_average)\n",
    "    \n",
    "    # THIS PART IS CRUCIAL -- the score we use is the max diff/long average at max diff\n",
    "    score = np.max(diff)/long_average[np.argmax(diff)]\n",
    "    \n",
    "    if score > 0.35:\n",
    "        bursts.append([keyword, score])\n"
   ]
  },
  {
   "cell_type": "code",
   "execution_count": null,
   "metadata": {},
   "outputs": [],
   "source": [
    "matrix([[  74, 1370,   53, ...,    8,   32,   23]], dtype=int64)"
   ]
  },
  {
   "cell_type": "code",
   "execution_count": null,
   "metadata": {},
   "outputs": [],
   "source": []
  },
  {
   "cell_type": "code",
   "execution_count": null,
   "metadata": {},
   "outputs": [],
   "source": []
  },
  {
   "cell_type": "code",
   "execution_count": null,
   "metadata": {},
   "outputs": [],
   "source": [
    "vectors = []\n",
    "\n",
    "abstracts = defaultdict(list)\n",
    "for year in range(2008,2019):\n",
    "    for doc in data[str(year)]:\n",
    "        \n",
    "   \n",
    "\n",
    "        quarter = int(np.floor((int(doc['created'][5:7])-1)/3))\n",
    "        \n",
    "        abstracts[str(year)+'-'+str(quarter)].append(doc['title'] + ' . ' + doc['abstract'])"
   ]
  },
  {
   "cell_type": "code",
   "execution_count": null,
   "metadata": {},
   "outputs": [],
   "source": [
    "vectors_idf = []\n",
    "vectors_tf = []\n",
    "\n",
    "t0 = time.time()\n",
    "for key in sorted(abstracts.keys()):\n",
    "    vectorizer_idf = TfidfVectorizer(strip_accents='ascii', \n",
    "                             ngram_range=(1,3), \n",
    "                             stop_words=stop,\n",
    "                             vocabulary=vocabulary)\n",
    "    \n",
    "    vectorizer_tf = CountVectorizer(strip_accents='ascii', \n",
    "                             ngram_range=(1,3), \n",
    "                             stop_words=stop,\n",
    "                             vocabulary=vocabulary)\n",
    "    \n",
    "    vector_idf = vectorizer_idf.fit_transform(abstracts[key])\n",
    "    vector_tf = vectorizer_tf.fit_transform(abstracts[key])\n",
    "    \n",
    "    summed_idf = np.sum(vector_idf,axis=0)/np.sum(vector_idf)\n",
    "    summed_tf = np.sum(vector_tf,axis=0)/np.sum(vector_tf)\n",
    "    \n",
    "    vectors_idf.append(np.squeeze(np.asarray(summed_idf)))\n",
    "    vectors_tf.append(np.squeeze(np.asarray(summed_tf)))\n",
    "\n",
    "vectors_idf = np.stack(vectors_idf, axis=1)\n",
    "vectors_tf = np.stack(vectors_tf, axis=1)\n",
    "print(time.time()-t0)"
   ]
  },
  {
   "cell_type": "code",
   "execution_count": null,
   "metadata": {},
   "outputs": [],
   "source": [
    "# Split the dataset up into year quarters\n",
    "abstracts = defaultdict(list)\n",
    "#for year in range(2008,2019):\n",
    "#    for doc in data[str(year)]:\n",
    "#        quarter = int(np.floor((int(doc['created'][5:7])-1)/3))\n",
    "#        \n",
    "#        abstracts[str(year)+'-'+str(quarter)].append(doc['title'] + ' . ' + doc['abstract'])\n",
    "\n",
    "\n",
    "for doc in stemmed_data:\n",
    "    quarter = int(np.floor((int(doc['created'][5:7])-1)/3))\n",
    "    year = doc['created'][0:4]\n",
    "    abstracts[str(year)+'-'+str(quarter)].append(doc['text'])"
   ]
  },
  {
   "cell_type": "code",
   "execution_count": null,
   "metadata": {},
   "outputs": [],
   "source": []
  }
 ],
 "metadata": {
  "kernelspec": {
   "display_name": "Python 3",
   "language": "python",
   "name": "python3"
  },
  "language_info": {
   "codemirror_mode": {
    "name": "ipython",
    "version": 3
   },
   "file_extension": ".py",
   "mimetype": "text/x-python",
   "name": "python",
   "nbconvert_exporter": "python",
   "pygments_lexer": "ipython3",
   "version": "3.6.4"
  }
 },
 "nbformat": 4,
 "nbformat_minor": 2
}
